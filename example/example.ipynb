{
 "cells": [
  {
   "cell_type": "code",
   "execution_count": 1,
   "metadata": {},
   "outputs": [],
   "source": [
    "from backtranslate import BackTranslator\n",
    "import csv"
   ]
  },
  {
   "cell_type": "code",
   "execution_count": 2,
   "metadata": {},
   "outputs": [
    {
     "name": "stderr",
     "output_type": "stream",
     "text": [
      "Using cache found in /root/.cache/torch/hub/pytorch_fairseq_master\n",
      "Using cache found in /root/.cache/torch/hub/pytorch_fairseq_master\n"
     ]
    }
   ],
   "source": [
    "src2tgt = \"transformer.wmt19.en-de.single_model\"\n",
    "tgt2src = \"transformer.wmt19.de-en.single_model\" \n",
    "tokenizer = \"moses\"\n",
    "bpe = \"fastbpe\" \n",
    "device = \"cuda\"\n",
    "\n",
    "bt = BackTranslator(src2tgt, tgt2src, tokenizer, bpe, device)"
   ]
  },
  {
   "cell_type": "code",
   "execution_count": 3,
   "metadata": {},
   "outputs": [
    {
     "data": {
      "text/plain": [
       "'Python is an interpreted, sophisticated, universal programming language.'"
      ]
     },
     "execution_count": 3,
     "metadata": {},
     "output_type": "execute_result"
    }
   ],
   "source": [
    "sample_sentence = \"Python is an interpreted, high-level, general-purpose programming language.\"\n",
    "bt.backtranslate(sample_sentence)"
   ]
  },
  {
   "cell_type": "code",
   "execution_count": 4,
   "metadata": {},
   "outputs": [
    {
     "name": "stderr",
     "output_type": "stream",
     "text": [
      "splits: 100%|██████████| 3/3 [00:00<00:00, 206.48it/s]\n",
      "Iteration: 100%|██████████| 1/1 [00:00<00:00,  1.69it/s]\n"
     ]
    },
    {
     "data": {
      "text/plain": [
       "['Python is typed dynamically and garbage collected.',\n",
       " 'It supports several programming paradigms, including structured (especially procedural), object oriented and functional programming.',\n",
       " \"Python is often described as the 'Battery Language' because of the comprehensive standard library.\"]"
      ]
     },
     "execution_count": 4,
     "metadata": {},
     "output_type": "execute_result"
    }
   ],
   "source": [
    "sample_doc = ['Python is dynamically typed and garbage-collected.', \n",
    "              'It supports multiple programming paradigms, including structured (particularly, procedural), object-oriented, and functional programming.', \n",
    "              'Python is often described as a \"batteries included\" language due to its comprehensive standard library']\n",
    "bt.backtranslate_docs(sample_doc)"
   ]
  },
  {
   "cell_type": "code",
   "execution_count": null,
   "metadata": {},
   "outputs": [],
   "source": []
  }
 ],
 "metadata": {
  "kernelspec": {
   "display_name": "Python 3",
   "language": "python",
   "name": "python3"
  },
  "language_info": {
   "codemirror_mode": {
    "name": "ipython",
    "version": 3
   },
   "file_extension": ".py",
   "mimetype": "text/x-python",
   "name": "python",
   "nbconvert_exporter": "python",
   "pygments_lexer": "ipython3",
   "version": "3.6.9"
  }
 },
 "nbformat": 4,
 "nbformat_minor": 4
}
